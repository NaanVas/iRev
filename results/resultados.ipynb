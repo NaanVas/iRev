{
 "cells": [
  {
   "cell_type": "code",
   "execution_count": 1,
   "metadata": {},
   "outputs": [],
   "source": [
    "import pandas as pd"
   ]
  },
  {
   "cell_type": "code",
   "execution_count": 7,
   "metadata": {},
   "outputs": [],
   "source": [
    "arquivo = (\"ALFM_Digital_Music_data_word2vec_results_error.csv\")"
   ]
  },
  {
   "cell_type": "code",
   "execution_count": 8,
   "metadata": {},
   "outputs": [
    {
     "name": "stdout",
     "output_type": "stream",
     "text": [
      " Média MSE: 0.4927326736593605\n",
      " Média MAE: 0.47967153810020674\n",
      " Média RMSE: 0.6942346073631057\n",
      " Média Precision: 0.7993212197159565\n",
      " Média Recall: 0.22431077694235588\n",
      " Média Diversity: 0.9097370861521575\n",
      " Média Novelty: 0.053666026237340556\n"
     ]
    }
   ],
   "source": [
    "df = pd.read_csv(arquivo)\n",
    "\n",
    "media_mse = df['mse'].mean()\n",
    "media_mae = df['mae'].mean()\n",
    "media_rmse = df['rmse'].mean()\n",
    "media_precision = df['precision'].mean()\n",
    "media_recall = df['recall'].mean()\n",
    "media_diversity = df['diversity'].mean()\n",
    "media_novelty = df['novelty'].mean()\n",
    "\n",
    "\n",
    "print(f' Média MSE: {media_mse}')\n",
    "print(f' Média MAE: {media_mae}')\n",
    "print(f' Média RMSE: {media_rmse}')\n",
    "print(f' Média Precision: {media_precision}')\n",
    "print(f' Média Recall: {media_recall}')\n",
    "print(f' Média Diversity: {media_diversity}')\n",
    "print(f' Média Novelty: {media_novelty}')"
   ]
  },
  {
   "cell_type": "code",
   "execution_count": null,
   "metadata": {},
   "outputs": [],
   "source": []
  }
 ],
 "metadata": {
  "kernelspec": {
   "display_name": ".naan",
   "language": "python",
   "name": "python3"
  },
  "language_info": {
   "codemirror_mode": {
    "name": "ipython",
    "version": 3
   },
   "file_extension": ".py",
   "mimetype": "text/x-python",
   "name": "python",
   "nbconvert_exporter": "python",
   "pygments_lexer": "ipython3",
   "version": "3.10.12"
  }
 },
 "nbformat": 4,
 "nbformat_minor": 2
}
